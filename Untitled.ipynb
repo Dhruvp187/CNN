{
  "nbformat": 4,
  "nbformat_minor": 0,
  "metadata": {
    "colab": {
      "provenance": [],
      "authorship_tag": "ABX9TyO6wGsPm4U8wQBMsJ84fMlm",
      "include_colab_link": true
    },
    "kernelspec": {
      "name": "python3",
      "display_name": "Python 3"
    },
    "language_info": {
      "name": "python"
    }
  },
  "cells": [
    {
      "cell_type": "markdown",
      "metadata": {
        "id": "view-in-github",
        "colab_type": "text"
      },
      "source": [
        "<a href=\"https://colab.research.google.com/github/Dhruvp187/CNN/blob/main/Untitled.ipynb\" target=\"_parent\"><img src=\"https://colab.research.google.com/assets/colab-badge.svg\" alt=\"Open In Colab\"/></a>"
      ]
    },
    {
      "cell_type": "code",
      "source": [
        "!pip install patool"
      ],
      "metadata": {
        "colab": {
          "base_uri": "https://localhost:8080/"
        },
        "id": "eFWyVg5n6CcG",
        "outputId": "eee8a00d-d431-43cc-b43f-3b73cd7b6fb6"
      },
      "execution_count": null,
      "outputs": [
        {
          "output_type": "stream",
          "name": "stdout",
          "text": [
            "Collecting patool\n",
            "  Downloading patool-2.0.0-py2.py3-none-any.whl (93 kB)\n",
            "\u001b[2K     \u001b[90m━━━━━━━━━━━━━━━━━━━━━━━━━━━━━━━━━━━━━━━━\u001b[0m \u001b[32m93.7/93.7 kB\u001b[0m \u001b[31m903.0 kB/s\u001b[0m eta \u001b[36m0:00:00\u001b[0m\n",
            "\u001b[?25hInstalling collected packages: patool\n",
            "Successfully installed patool-2.0.0\n"
          ]
        }
      ]
    },
    {
      "cell_type": "code",
      "source": [
        "# # Install necessary libraries\n",
        "# !pip install tensorflow\n",
        "# !pip install patoolib tqdm\n",
        "\n",
        "import os\n",
        "import patoolib\n",
        "import cv2\n",
        "import numpy as np\n",
        "import tensorflow as tf\n",
        "from sklearn.model_selection import train_test_split\n",
        "from keras import layers, models\n",
        "from tqdm import tqdm\n",
        "import subprocess\n",
        "\n",
        "# Mount Google Drive\n",
        "from google.colab import drive\n",
        "drive.mount('/content/gdrive')\n",
        "\n",
        "# Extract RAR file with progress\n",
        "dataset_path = \"/content/gdrive/MyDrive/imdb_crop.rar\"\n",
        "extract_path = \"/content/gdrive/MyDrive/extracted_dataset\"\n"
      ],
      "metadata": {
        "id": "x3DZjDCAqpIO"
      },
      "execution_count": null,
      "outputs": []
    },
    {
      "cell_type": "code",
      "execution_count": null,
      "metadata": {
        "id": "8VEfNNVC58Qk"
      },
      "outputs": [],
      "source": [
        "# Use subprocess to call patool command and capture the output\n",
        "command = f\"patool extract '{dataset_path}' -o '{extract_path}'\"\n",
        "process = subprocess.Popen(command, shell=True, stdout=subprocess.PIPE, stderr=subprocess.STDOUT, universal_newlines=True)\n",
        "\n",
        "# Use tqdm to display the progress\n",
        "with tqdm(total=100, unit='%', desc='Extracting', position=0, leave=True) as pbar:\n",
        "    for line in process.stdout:\n",
        "        pbar.update(1)\n",
        "\n",
        "# Wait for the extraction process to finish\n",
        "process.wait()\n",
        "\n"
      ]
    },
    {
      "cell_type": "code",
      "source": [
        "# Load and Preprocess Data with Batch Processing and Progress Bar\n",
        "data = []\n",
        "labels = []\n",
        "\n",
        "batch_size = 1000  # Set your desired batch size\n",
        "\n",
        "# Get the total number of files for progress bar\n",
        "total_files = sum([len(files) for _, _, files in os.walk(extract_path)])\n",
        "\n",
        "with tqdm(total=total_files, unit='files', desc='Loading and Preprocessing', position=0, leave=True) as pbar:\n",
        "    for root, dirs, files in os.walk(extract_path):\n",
        "        for file in files:\n",
        "            if file.endswith(\".jpg\"):\n",
        "                image_path = os.path.join(root, file)\n",
        "                name, image_number, gender, age = file.split(\"_\")\n",
        "                age = int(age.split(\".\")[0])  # Extract age from filename\n",
        "                image = cv2.imread(image_path)\n",
        "                # Resize the image to your desired dimensions\n",
        "                image = cv2.resize(image, (224, 224))\n",
        "                data.append(image)\n",
        "                labels.append(age)\n",
        "\n",
        "                # Perform batch processing\n",
        "                if len(data) % batch_size == 0:\n",
        "                    data_batch = np.array(data) / 255.0\n",
        "                    labels_batch = np.array(labels)\n",
        "\n",
        "                    # Process the batch (you can replace this with your specific processing steps)\n",
        "                    # For example, you might want to feed it to your model, update weights, etc.\n",
        "\n",
        "                    # Clear the lists to avoid memory issues\n",
        "                    data = []\n",
        "                    labels = []\n",
        "\n",
        "                    pbar.update(batch_size)  # Update the progress bar\n",
        "\n",
        "# Process the last batch if it's not empty\n",
        "if data:\n",
        "    data_batch = np.array(data) / 255.0\n",
        "    labels_batch = np.array(labels)\n",
        "\n",
        "    # Process the last batch (you can replace this with your specific processing steps)\n",
        "    # For example, you might want to feed it to your model, update weights, etc.\n",
        "\n",
        "    pbar.update(len(data))\n",
        "\n",
        "# Optionally, you can add code here to finalize any processing steps after all batches are processed\n",
        "# For example, if you are training a model, you might want to perform final training steps here\n"
      ],
      "metadata": {
        "id": "KVoewaq-5_2I"
      },
      "execution_count": null,
      "outputs": []
    },
    {
      "cell_type": "code",
      "source": [
        "# Custom tqdm callback\n",
        "class tqdm_callback(tf.keras.callbacks.Callback):\n",
        "    def __init__(self, pbar):\n",
        "        super(tqdm_callback, self).__init__()\n",
        "        self.pbar = pbar\n",
        "\n",
        "    def on_epoch_end(self, epoch, logs=None):\n",
        "        self.pbar.update(1)\n",
        "\n",
        "    def on_batch_end(self, batch, logs=None):\n",
        "        self.pbar.update(1)\n",
        "\n",
        "# Split Data with Progress Bar\n",
        "with tqdm(total=len(data), unit=' samples', desc='Splitting Data', position=0, leave=True) as pbar:\n",
        "    train_data, test_data, train_labels, test_labels = train_test_split(\n",
        "        data, labels, test_size=0.2, random_state=42\n",
        "    )\n",
        "    pbar.update(len(data))\n",
        "\n",
        "# Build AgeNet Model\n",
        "model = models.Sequential()\n",
        "\n",
        "# Convolutional layers\n",
        "model.add(layers.Conv2D(32, (3, 3), activation='relu', input_shape=(224, 224, 3)))\n",
        "model.add(layers.MaxPooling2D((2, 2)))\n",
        "model.add(layers.Conv2D(64, (3, 3), activation='relu'))\n",
        "model.add(layers.MaxPooling2D((2, 2)))\n",
        "model.add(layers.Conv2D(128, (3, 3), activation='relu'))\n",
        "model.add(layers.MaxPooling2D((2, 2)))\n",
        "\n",
        "# Flatten layer\n",
        "model.add(layers.Flatten())\n",
        "\n",
        "# Dense layers\n",
        "model.add(layers.Dense(128, activation='relu'))\n",
        "model.add(layers.Dropout(0.5))\n",
        "model.add(layers.Dense(1, activation='linear'))\n",
        "\n",
        "# Compile Model\n",
        "model.compile(\n",
        "    optimizer='adam',\n",
        "    loss='mean_squared_error',\n",
        "    metrics=['mae']\n",
        ")\n",
        "\n",
        "# Print model summary\n",
        "model.summary()\n",
        "\n",
        "# Train Model with Progress Bar\n",
        "with tqdm(total=len(train_data), unit=' batches', desc='Training Model', position=0, leave=True) as pbar:\n",
        "    model.fit(train_data, train_labels, epochs=10, batch_size=32, validation_split=0.2, callbacks=[tqdm_callback(pbar)])\n",
        "\n",
        "# Evaluate Model with Progress Bar\n",
        "with tqdm(total=len(test_data), unit=' batches', desc='Evaluating Model', position=0, leave=True) as pbar:\n",
        "    test_loss, test_mae = model.evaluate(test_data, test_labels, callbacks=[tqdm_callback(pbar)])\n",
        "    print(f\"Mean Absolute Error on Test Data: {test_mae}\")\n",
        "\n",
        "# Save Model with Progress Bar\n",
        "with tqdm(total=1, unit=' models', desc='Saving Model', position=0, leave=True) as pbar:\n",
        "    model.save(\"/content/gdrive/MyDrive/age_prediction_model.h5\")\n",
        "    pbar.update(1)"
      ],
      "metadata": {
        "id": "PWF0L7soq5yQ"
      },
      "execution_count": null,
      "outputs": []
    }
  ]
}